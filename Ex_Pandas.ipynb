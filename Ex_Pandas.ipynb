{
 "cells": [
  {
   "cell_type": "markdown",
   "metadata": {},
   "source": [
    "###### Gene table exercise"
   ]
  },
  {
   "cell_type": "code",
   "execution_count": 2,
   "metadata": {},
   "outputs": [],
   "source": [
    "import numpy as np\n",
    "import pandas as pd\n",
    "import matplotlib.pyplot as plot"
   ]
  },
  {
   "cell_type": "code",
   "execution_count": 3,
   "metadata": {},
   "outputs": [
    {
     "name": "stdout",
     "output_type": "stream",
     "text": [
      "        Gene name             Gene type Chromosome/scaffold name  Strand  \\\n",
      "0           MT-TF               Mt_tRNA                       MT       1   \n",
      "1         MT-RNR1               Mt_rRNA                       MT       1   \n",
      "2           MT-TV               Mt_tRNA                       MT       1   \n",
      "3         MT-RNR2               Mt_rRNA                       MT       1   \n",
      "4          MT-TL1               Mt_tRNA                       MT       1   \n",
      "...           ...                   ...                      ...     ...   \n",
      "67125     ARHGEF5        protein_coding      CHR_HSCHR7_3_CTG4_4       1   \n",
      "67126       NOBOX        protein_coding      CHR_HSCHR7_3_CTG4_4      -1   \n",
      "67127  AC004864.1        protein_coding      CHR_HSCHR7_3_CTG4_4      -1   \n",
      "67128    MTRF1LP2  processed_pseudogene        CHR_HSCHR8_7_CTG7       1   \n",
      "67129       GSDMC        protein_coding        CHR_HSCHR8_7_CTG7      -1   \n",
      "\n",
      "       Transcript count  \n",
      "0                     1  \n",
      "1                     1  \n",
      "2                     1  \n",
      "3                     1  \n",
      "4                     1  \n",
      "...                 ...  \n",
      "67125                 2  \n",
      "67126                 4  \n",
      "67127                 2  \n",
      "67128                 1  \n",
      "67129                 4  \n",
      "\n",
      "[67130 rows x 5 columns]\n"
     ]
    }
   ],
   "source": [
    "gene_t = pd.read_csv('gene_table.txt')\n",
    "gene_t = pd.DataFrame(gene_t)\n",
    "print(gene_t)"
   ]
  },
  {
   "cell_type": "code",
   "execution_count": 4,
   "metadata": {},
   "outputs": [],
   "source": [
    "T_1 = gene_t.shape[0]"
   ]
  },
  {
   "cell_type": "code",
   "execution_count": 5,
   "metadata": {},
   "outputs": [],
   "source": [
    "T_2 = gene_t['Transcript count'].agg([np.min, np.max, np.mean, np.median])"
   ]
  },
  {
   "cell_type": "code",
   "execution_count": 11,
   "metadata": {
    "scrolled": false
   },
   "outputs": [
    {
     "data": {
      "image/png": "[encoded data removed]",
      "text/plain": [
       "<Figure size 432x288 with 1 Axes>"
      ]
     },
     "metadata": {
      "needs_background": "light"
     },
     "output_type": "display_data"
    }
   ],
   "source": [
    "fig, ax = plot.subplots(1,1)\n",
    "\n",
    "T_3 = ax.hist('Transcript count', data=gene_t,bins=100)"
   ]
  },
  {
   "cell_type": "code",
   "execution_count": 124,
   "metadata": {},
   "outputs": [],
   "source": [
    "T_4 = len(gene_t.groupby('Gene type').groups)"
   ]
  },
  {
   "cell_type": "code",
   "execution_count": 123,
   "metadata": {},
   "outputs": [],
   "source": [
    "T_5 = gene_t.groupby('Gene type').size().sort_values()"
   ]
  },
  {
   "cell_type": "code",
   "execution_count": 122,
   "metadata": {},
   "outputs": [],
   "source": [
    "T_6 = gene_t.groupby(['Chromosome/scaffold name','Strand'])['Strand'].count().groupby(level = 0).apply(lambda x : 100*x/x.sum())\n"
   ]
  },
  {
   "cell_type": "code",
   "execution_count": 121,
   "metadata": {},
   "outputs": [],
   "source": [
    "T_7 = gene_t.groupby(['Gene type'])['Transcript count'].agg(np.mean)"
   ]
  }
 ],
 "metadata": {
  "kernelspec": {
   "display_name": "lorenzo_py",
   "language": "python",
   "name": "lorenzo_py"
  },
  "language_info": {
   "codemirror_mode": {
    "name": "ipython",
    "version": 3
   },
   "file_extension": ".py",
   "mimetype": "text/x-python",
   "name": "python",
   "nbconvert_exporter": "python",
   "pygments_lexer": "ipython3",
   "version": "3.7.8"
  }
 },
 "nbformat": 4,
 "nbformat_minor": 4
}
