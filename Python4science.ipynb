{
 "cells": [
  {
   "cell_type": "markdown",
   "metadata": {},
   "source": [
    "####NUMPY"
   ]
  },
  {
   "cell_type": "code",
   "execution_count": 1,
   "metadata": {},
   "outputs": [],
   "source": [
    "import numpy as np\n",
    "\n",
    "a = np.array([1,2,3,4])\n",
    "b = np.array([(0,1,2),(1,2,3)])"
   ]
  },
  {
   "cell_type": "code",
   "execution_count": 3,
   "metadata": {},
   "outputs": [
    {
     "name": "stdout",
     "output_type": "stream",
     "text": [
      "[[0 1 2]\n",
      " [1 2 3]]\n"
     ]
    }
   ],
   "source": [
    "print(b)"
   ]
  },
  {
   "cell_type": "code",
   "execution_count": 6,
   "metadata": {},
   "outputs": [
    {
     "data": {
      "text/plain": [
       "array([[-5.73021895e-300,  6.92155067e-310]])"
      ]
     },
     "execution_count": 6,
     "metadata": {},
     "output_type": "execute_result"
    }
   ],
   "source": [
    "####generator functions\n",
    "\n",
    "a = np.zeros(shape=(2,3)) ###array 2d containing 2 rows and 3 columns with all zero\n",
    "\n",
    "np.ones_like(a) ###array with equal shape of a but filled with 1\n",
    "\n",
    "np.arange(start = 1, stop = 5) #### array with one dimension filled with number from start to stop-1\n",
    "\n",
    "np.linspace(start = 0, stop = 1, num = 5) ###array with one dimension from start to stop with num elements\n",
    "\n",
    "np.empty(shape = (1,2)) ##array with desired shape filled with randomn number"
   ]
  },
  {
   "cell_type": "code",
   "execution_count": null,
   "metadata": {},
   "outputs": [],
   "source": [
    "###Import (read file)\n",
    "\n",
    "b = np.fromfile('path', sep = '\\t', dtype = int) ###read from file"
   ]
  },
  {
   "cell_type": "code",
   "execution_count": 7,
   "metadata": {},
   "outputs": [
    {
     "data": {
      "text/plain": [
       "array([ 0.82315999,  1.73009617,  1.51582132,  0.78376433,  1.85319292,\n",
       "       -0.23460212, -0.69968289, -0.58778108, -1.69886592,  0.73401821,\n",
       "       -0.91434496, -0.27737916, -1.86473104,  1.31420598, -0.00272554,\n",
       "        0.58377382, -0.02177501, -0.45598817,  2.16211887,  0.07856352,\n",
       "       -0.37500729, -0.95847001,  0.10044705,  0.68693901, -0.64036182,\n",
       "        1.48153007, -0.45883894, -0.15493134, -0.00506954,  1.34395855,\n",
       "        0.07458453,  1.05296989,  1.10914979, -1.62996228, -2.30419893,\n",
       "        2.08600836,  1.37157184, -0.68036456,  0.01142887,  0.84738045,\n",
       "       -0.99944557, -0.09213467, -1.24958336,  0.86926661,  1.79246756,\n",
       "        0.05644337,  1.77782002,  1.28115362,  0.75836514,  0.2521688 ,\n",
       "        2.22704372,  1.10456984,  0.63643016,  0.38519802,  0.89141811,\n",
       "        1.37556046,  0.09394403,  2.38681652,  1.45459031, -0.67845059,\n",
       "        1.5032649 , -0.97572855, -0.12843714, -0.27081992, -1.13981664,\n",
       "       -0.90961321, -1.71361478, -0.5451219 , -0.16817591, -1.18380859,\n",
       "        0.00987881, -0.28906605,  0.5053938 ,  0.62707645,  0.79241857,\n",
       "        1.46996704,  1.36565226,  0.16361969, -0.18885561,  1.1985201 ,\n",
       "        0.38954832, -0.46912803,  0.20622063,  0.5963521 ,  0.68475897,\n",
       "       -0.26362197, -0.23943008, -0.69251508, -0.24107816,  2.69847568,\n",
       "       -0.81620023, -0.36835684,  1.14818435,  0.1725611 , -0.19740926,\n",
       "       -0.13301366,  0.43752207, -2.04250868, -0.0137216 , -1.37899374])"
      ]
     },
     "execution_count": 7,
     "metadata": {},
     "output_type": "execute_result"
    }
   ],
   "source": [
    "#### Random from distribution\n",
    "import numpy.random as rand\n",
    "\n",
    "rand.random_sample((2,3)) ##random float from uniform distribution [0,1]\n",
    "\n",
    "rand.randint(low = 5, high = 11, size = (4,2)) ###integers from discrete uniform distribution [low,high]\n",
    "\n",
    "rand.normal(loc=0, scale=1, size=100) ###float from normnal distribution"
   ]
  },
  {
   "cell_type": "code",
   "execution_count": 15,
   "metadata": {},
   "outputs": [
    {
     "name": "stdout",
     "output_type": "stream",
     "text": [
      "[[ 0  1  4  9 16]\n",
      " [ 0  1  8 27 64]]\n"
     ]
    }
   ],
   "source": [
    "a = np.arange(5)\n",
    "b = np.array([[i**2 for i in a],[j**3 for j in a]])\n",
    "print(b)"
   ]
  },
  {
   "cell_type": "code",
   "execution_count": 19,
   "metadata": {},
   "outputs": [
    {
     "data": {
      "text/plain": [
       "array([[20, 21, 22, 23],\n",
       "       [30, 31, 32, 33]])"
      ]
     },
     "execution_count": 19,
     "metadata": {},
     "output_type": "execute_result"
    }
   ],
   "source": [
    "### Multidimensional\n",
    "a = np.fromfunction(lambda x,y: 10*x+y, (4,4), dtype=int) #### x an y are taken from coordinates\n",
    "\n",
    "a[0,1] ###first row, second cloumn\n",
    "\n",
    "a[-2:,:] ##second-last and last rows with all columns\n",
    "\n",
    "a[-2:] ###if not specified, it consider to take all the elements from the unspecified dimensions"
   ]
  },
  {
   "cell_type": "code",
   "execution_count": 31,
   "metadata": {},
   "outputs": [
    {
     "name": "stdout",
     "output_type": "stream",
     "text": [
      "[False False False False False False  True  True False False]\n"
     ]
    }
   ],
   "source": [
    "a = np.random.randint(10,100,10)\n",
    "\n",
    "idx = np.array([0,3,5,2,2])\n",
    "a[idx]\n",
    "\n",
    "bool_idx = np.array([i%2==0 for i in a])\n",
    "a[bool_idx]\n",
    "print(bool_idx)"
   ]
  },
  {
   "cell_type": "code",
   "execution_count": 40,
   "metadata": {},
   "outputs": [
    {
     "data": {
      "text/plain": [
       "array([2, 5, 3])"
      ]
     },
     "execution_count": 40,
     "metadata": {},
     "output_type": "execute_result"
    }
   ],
   "source": [
    "b = np.array([[[0,1,2],[7,8,9],[1,2,3]], [[2,3,4],[5,6,7],[3,4,5]]])\n",
    "\n",
    "b[1,...,0] # interpreted as b[1,:,0]\n",
    "# [2,3]"
   ]
  },
  {
   "cell_type": "code",
   "execution_count": 6,
   "metadata": {},
   "outputs": [
    {
     "name": "stdout",
     "output_type": "stream",
     "text": [
      "[[[[0 1 2]]]]\n"
     ]
    }
   ],
   "source": [
    "a = np.arange(3) # [0,1,2]\n",
    "\n",
    "# Make a row vector of a\n",
    "a=np.expand_dims(a, axis=0) # [[0,1,2]]\n",
    "\n",
    "# Make a column vector of a\n",
    "a = np.expand_dims(a, axis=1) # [[0],[1],[2]]\n",
    "a = np.expand_dims(a, axis = 2)\n",
    "\n",
    "print(a)"
   ]
  },
  {
   "cell_type": "code",
   "execution_count": 14,
   "metadata": {},
   "outputs": [
    {
     "name": "stdout",
     "output_type": "stream",
     "text": [
      "[[[[-8 -7 -8]]]]\n"
     ]
    },
    {
     "data": {
      "text/plain": [
       "array([[[[64, 49, 64]]]])"
      ]
     },
     "execution_count": 14,
     "metadata": {},
     "output_type": "execute_result"
    }
   ],
   "source": [
    "a.__isub__(2)\n",
    "print(a)\n",
    "np.power(a,2)"
   ]
  },
  {
   "cell_type": "code",
   "execution_count": 18,
   "metadata": {},
   "outputs": [
    {
     "name": "stdout",
     "output_type": "stream",
     "text": [
      "[0 1 2] [0 1 2 3]\n"
     ]
    }
   ],
   "source": [
    "a = np.arange(3)\n",
    "b = np.arange(4)\n",
    "print(a,b)"
   ]
  },
  {
   "cell_type": "code",
   "execution_count": 19,
   "metadata": {},
   "outputs": [],
   "source": [
    "a= np.expand_dims(a, axis = 0)\n",
    "b= np.expand_dims(b, axis = 1)"
   ]
  },
  {
   "cell_type": "code",
   "execution_count": 20,
   "metadata": {},
   "outputs": [
    {
     "data": {
      "text/plain": [
       "array([[0, 1, 2],\n",
       "       [1, 2, 3],\n",
       "       [2, 3, 4],\n",
       "       [3, 4, 5]])"
      ]
     },
     "execution_count": 20,
     "metadata": {},
     "output_type": "execute_result"
    }
   ],
   "source": [
    "a+b"
   ]
  },
  {
   "cell_type": "code",
   "execution_count": 4,
   "metadata": {},
   "outputs": [
    {
     "name": "stdout",
     "output_type": "stream",
     "text": [
      "[[ 1  6 11]\n",
      " [ 2  7 12]\n",
      " [ 3  8 13]\n",
      " [ 4  9 14]\n",
      " [ 5 10 15]]\n",
      "[[ 2  7 12]\n",
      " [ 4  9 14]]\n"
     ]
    }
   ],
   "source": [
    "####exercise\n",
    "\n",
    "a = np.arange(start = 1, stop =16).reshape((5,3), order ='F')\n",
    "\n",
    "print(a)\n",
    "\n",
    "b = a[[1,3],:]\n",
    "\n",
    "print(b)"
   ]
  },
  {
   "cell_type": "code",
   "execution_count": 26,
   "metadata": {},
   "outputs": [
    {
     "name": "stdout",
     "output_type": "stream",
     "text": [
      "(5,)\n",
      "(5, 5)\n",
      "(5, 1)\n"
     ]
    },
    {
     "data": {
      "text/plain": [
       "array([[0.        , 1.        , 2.        , 3.        , 4.        ],\n",
       "       [1.        , 1.2       , 1.4       , 1.6       , 1.8       ],\n",
       "       [1.        , 1.1       , 1.2       , 1.3       , 1.4       ],\n",
       "       [1.        , 1.06666667, 1.13333333, 1.2       , 1.26666667],\n",
       "       [1.        , 1.05      , 1.1       , 1.15      , 1.2       ]])"
      ]
     },
     "execution_count": 26,
     "metadata": {},
     "output_type": "execute_result"
    }
   ],
   "source": [
    "####exercise 2\n",
    "\n",
    "a = np.arange(25).reshape(5, 5)\n",
    "b = np.array([1,5,10,15,20])\n",
    "print(b.shape)\n",
    "print(a.shape)\n",
    "print(b[:,np.newaxis].shape)\n",
    "\n",
    "a/b[:,np.newaxis]"
   ]
  },
  {
   "cell_type": "code",
   "execution_count": 87,
   "metadata": {},
   "outputs": [
    {
     "name": "stdout",
     "output_type": "stream",
     "text": [
      "[[0.59568648 0.02875656 0.77192365]\n",
      " [0.16261212 0.35832814 0.23821471]\n",
      " [0.75240398 0.44843991 0.61086855]\n",
      " [0.40063898 0.27524895 0.22582749]\n",
      " [0.672245   0.38832616 0.54621325]\n",
      " [0.18824705 0.71336143 0.54026599]\n",
      " [0.03411097 0.89566806 0.59968511]\n",
      " [0.19574568 0.95769005 0.39996118]\n",
      " [0.39887722 0.79530631 0.39827196]\n",
      " [0.61787066 0.12280777 0.95275484]]\n",
      "[[0.09568648 0.47124344 0.27192365]\n",
      " [0.33738788 0.14167186 0.26178529]\n",
      " [0.25240398 0.05156009 0.11086855]\n",
      " [0.09936102 0.22475105 0.27417251]\n",
      " [0.172245   0.11167384 0.04621325]\n",
      " [0.31175295 0.21336143 0.04026599]\n",
      " [0.46588903 0.39566806 0.09968511]\n",
      " [0.30425432 0.45769005 0.10003882]\n",
      " [0.10112278 0.29530631 0.10172804]\n",
      " [0.11787066 0.37719223 0.45275484]]\n",
      "[[0 2 1]\n",
      " [1 2 0]\n",
      " [1 2 0]\n",
      " [0 1 2]\n",
      " [2 1 0]\n",
      " [2 1 0]\n",
      " [2 1 0]\n",
      " [2 0 1]\n",
      " [0 2 1]\n",
      " [0 1 2]]\n"
     ]
    },
    {
     "data": {
      "text/plain": [
       "array([0.59568648, 0.23821471, 0.61086855, 0.40063898, 0.54621325,\n",
       "       0.54026599, 0.59968511, 0.95769005, 0.39887722, 0.61787066])"
      ]
     },
     "execution_count": 87,
     "metadata": {},
     "output_type": "execute_result"
    }
   ],
   "source": [
    "####exercise 3\n",
    "import numpy.random as rand\n",
    "a = rand.random_sample((10,3))\n",
    "\n",
    "print(a)\n",
    "print(np.abs(a - 0.5))\n",
    "print(np.abs(a - 0.5).argsort(axis=1))\n",
    "\n",
    "j = np.abs(a - 0.5).argsort(axis=1).argmin(axis = 1)\n",
    "\n",
    "i = np.arange(j.size)\n",
    "a[i,j]\n",
    "\n",
    "    "
   ]
  },
  {
   "cell_type": "markdown",
   "metadata": {},
   "source": [
    "###Matplotlib"
   ]
  },
  {
   "cell_type": "code",
   "execution_count": 93,
   "metadata": {},
   "outputs": [
    {
     "data": {
      "image/png": "[encoded data removed]",
      "text/plain": [
       "<Figure size 432x288 with 4 Axes>"
      ]
     },
     "metadata": {
      "needs_background": "light"
     },
     "output_type": "display_data"
    }
   ],
   "source": [
    "import matplotlib.pyplot as plt\n",
    "\n",
    "\n",
    "fig, axes = plt.subplots(2,2) \n",
    "\n",
    "x = np.linspace(-10,10,20)\n",
    "c=0\n",
    "\n",
    "for ax in axes.flat:\n",
    "    c+=1\n",
    "    ax.plot(x, x**c, 'red')"
   ]
  },
  {
   "cell_type": "code",
   "execution_count": 107,
   "metadata": {},
   "outputs": [
    {
     "data": {
      "text/plain": [
       "<matplotlib.collections.PathCollection at 0x7fc555741f10>"
      ]
     },
     "execution_count": 107,
     "metadata": {},
     "output_type": "execute_result"
    },
    {
     "data": {
      "image/png": "[encoded data removed]",
      "text/plain": [
       "<Figure size 432x288 with 5 Axes>"
      ]
     },
     "metadata": {
      "needs_background": "light"
     },
     "output_type": "display_data"
    }
   ],
   "source": [
    "f = plt.figure(constrained_layout=True) # Instantiate Figure\n",
    "\n",
    "gs =f.add_gridspec( # Instantiate grid\n",
    "    nrows=3, ncols=3, # number of rows/columns in grid\n",
    "    left= 0.2, right=0.8 , top = 0.9, bottom = 0.1, # figure spanning of grid\n",
    "    wspace=0.05, hspace=0.03, # spacing between grid elements\n",
    "    width_ratios = [0.6,0.3, 0.1], height_ratios = [0.2,0.3,0.5], # relative width/height of grid elements\n",
    "    )\n",
    "\n",
    "ax1 = f.add_subplot(gs[0,:]) # instantiate axes spanning first row of grid\n",
    "ax2 = f.add_subplot(gs[1,0]) # second axes in pos (1,0)\n",
    "ax3 = f.add_subplot(gs[1,1]) # third axes in (1,1)\n",
    "\n",
    "ax5 = f.add_subplot(gs[2,:2]) # last axes covers third row, first two columns\n",
    "ax4 = f.add_subplot(gs[1:,-1]) # fourth spanning from second row on, last column\n",
    "ax5.scatter(x,x**2)"
   ]
  },
  {
   "cell_type": "code",
   "execution_count": 112,
   "metadata": {},
   "outputs": [
    {
     "data": {
      "text/plain": [
       "[<matplotlib.lines.Line2D at 0x7fc55e088d10>]"
      ]
     },
     "execution_count": 112,
     "metadata": {},
     "output_type": "execute_result"
    },
    {
     "data": {
      "image/png": "[encoded data removed]",
      "text/plain": [
       "<Figure size 432x288 with 1 Axes>"
      ]
     },
     "metadata": {
      "needs_background": "light"
     },
     "output_type": "display_data"
    }
   ],
   "source": [
    "p = np.random.rand(4)\n",
    "l = ['A','B','C','D']\n",
    "\n",
    "fig , ax = plt.subplots(1,1)\n",
    "\n",
    "ax.plot(l,p)"
   ]
  },
  {
   "cell_type": "code",
   "execution_count": 118,
   "metadata": {},
   "outputs": [
    {
     "data": {
      "text/plain": [
       "<matplotlib.collections.LineCollection at 0x7fc521248bd0>"
      ]
     },
     "execution_count": 118,
     "metadata": {},
     "output_type": "execute_result"
    },
    {
     "data": {
      "image/png": "[encoded data removed]",
      "text/plain": [
       "<Figure size 432x288 with 1 Axes>"
      ]
     },
     "metadata": {
      "needs_background": "light"
     },
     "output_type": "display_data"
    }
   ],
   "source": [
    "fig , ax = plt.subplots(1,1)\n",
    "x = np.linspace(1,10,20)\n",
    "y=x**2\n",
    "ax.scatter(x,y)\n",
    "\n",
    "ax.axline((1,2), slope=1, color='red')\n",
    "ax.axvline(x=2, color='green') # same as ax.axline((2,0), slope=np.inf)\n",
    "ax.axhline(y=60, color='blue') # same as ax.axline((0,60), slope=0)\n",
    "ax.vlines(x,-3, y, color = 'gray')"
   ]
  },
  {
   "cell_type": "code",
   "execution_count": 120,
   "metadata": {},
   "outputs": [
    {
     "data": {
      "text/plain": [
       "{'whiskers': [<matplotlib.lines.Line2D at 0x7fc5210345d0>,\n",
       "  <matplotlib.lines.Line2D at 0x7fc521034a10>,\n",
       "  <matplotlib.lines.Line2D at 0x7fc52103ffd0>,\n",
       "  <matplotlib.lines.Line2D at 0x7fc520fcb450>],\n",
       " 'caps': [<matplotlib.lines.Line2D at 0x7fc521034e50>,\n",
       "  <matplotlib.lines.Line2D at 0x7fc52103f2d0>,\n",
       "  <matplotlib.lines.Line2D at 0x7fc520fcb850>,\n",
       "  <matplotlib.lines.Line2D at 0x7fc520fcbc90>],\n",
       " 'boxes': [<matplotlib.lines.Line2D at 0x7fc521034190>,\n",
       "  <matplotlib.lines.Line2D at 0x7fc52103fb90>],\n",
       " 'medians': [<matplotlib.lines.Line2D at 0x7fc52103f750>,\n",
       "  <matplotlib.lines.Line2D at 0x7fc520fd4110>],\n",
       " 'fliers': [],\n",
       " 'means': []}"
      ]
     },
     "execution_count": 120,
     "metadata": {},
     "output_type": "execute_result"
    },
    {
     "data": {
      "image/png": "[encoded data removed]",
      "text/plain": [
       "<Figure size 432x288 with 1 Axes>"
      ]
     },
     "metadata": {
      "needs_background": "light"
     },
     "output_type": "display_data"
    }
   ],
   "source": [
    "fig , ax = plt.subplots(1,1)\n",
    "\n",
    "a = np.random.normal(0,1,100)\n",
    "b = np.random.normal(2,1,100)\n",
    "\n",
    "ax.boxplot(\n",
    "    x= [a,b], \n",
    "    sym = '',\n",
    "    vert = True, # vertical or horizontal box\n",
    "    whis = (2.5,97.5), # whisker range\n",
    "    labels = ['A','B'], # Data Labels\n",
    "    boxprops = dict(linewidth=3), #  dict of styling options for boxes\n",
    "    # whiskerprops: a dict of styling options for whiskers,\n",
    "    # medianprops: a dixt of styling options for median,\n",
    "    # ...\n",
    ")"
   ]
  },
  {
   "cell_type": "code",
   "execution_count": 125,
   "metadata": {},
   "outputs": [
    {
     "data": {
      "text/plain": [
       "([<matplotlib.patches.Wedge at 0x7fc520de2710>,\n",
       "  <matplotlib.patches.Wedge at 0x7fc520def2d0>,\n",
       "  <matplotlib.patches.Wedge at 0x7fc520defd50>,\n",
       "  <matplotlib.patches.Wedge at 0x7fc520dfb890>],\n",
       " [Text(1.0461621663333946, 0.3399186987098808, 'A'),\n",
       "  Text(0.33991867422268784, 1.0461621742897658, 'B'),\n",
       "  Text(-1.0461621902025062, 0.3399186252483017, 'C'),\n",
       "  Text(0.3399188211458418, -1.0461621265515308, 'D')],\n",
       " [Text(0.5706339089091244, 0.1854101992962986, '10.0'),\n",
       "  Text(0.1854101859396479, 0.5706339132489631, '20.0'),\n",
       "  Text(-0.5706339219286397, 0.18541015922634638, '30.0'),\n",
       "  Text(0.18541026607955005, -0.5706338872099259, '40.0')])"
      ]
     },
     "execution_count": 125,
     "metadata": {},
     "output_type": "execute_result"
    },
    {
     "data": {
      "image/png": "[encoded data removed]",
      "text/plain": [
       "<Figure size 432x288 with 1 Axes>"
      ]
     },
     "metadata": {},
     "output_type": "display_data"
    }
   ],
   "source": [
    "p = [0.1,0.2,0.3,0.4]\n",
    "\n",
    "fig , ax = plt.subplots(1,1)\n",
    "\n",
    "ax.pie(\n",
    "    p,\n",
    "    #explode=[0.2,0.2,0.2,0.2],\n",
    "    labels=['A','B','C','D'],\n",
    "    colors=None, # Allows to specify colors\n",
    "    autopct=lambda x: f'{x:.4}', # formatting slice data\n",
    "    pctdistance=0.6, # distance from center to data annotation\n",
    "    shadow=True,\n",
    "    labeldistance=1.1, # distance from center to label\n",
    "    startangle=0, # start plotting\n",
    "    #radius=1, # pie radius\n",
    "    counterclock=True, # ordering of slices\n",
    "    wedgeprops=None, # styling slices\n",
    "    textprops=None, # styling annotations\n",
    "    center=(0, 0), # locating the pie\n",
    "    frame=False,\n",
    "    rotatelabels=False, # adapt label angle to slice \n",
    ")"
   ]
  },
  {
   "cell_type": "code",
   "execution_count": 127,
   "metadata": {},
   "outputs": [
    {
     "data": {
      "text/plain": [
       "<matplotlib.collections.PathCollection at 0x7fc520d07650>"
      ]
     },
     "execution_count": 127,
     "metadata": {},
     "output_type": "execute_result"
    },
    {
     "data": {
      "image/png": "[encoded data removed]",
      "text/plain": [
       "<Figure size 432x288 with 1 Axes>"
      ]
     },
     "metadata": {
      "needs_background": "light"
     },
     "output_type": "display_data"
    }
   ],
   "source": [
    "fig , ax = plt.subplots(1,1)\n",
    "\n",
    "ax.scatter(x,y, \n",
    "           s=10*x, # size specification proportional to x\n",
    "           c=-y,# color specification inversely proportional to y\n",
    "           #cmap='Reds' # specify colormap\n",
    "          )"
   ]
  },
  {
   "cell_type": "code",
   "execution_count": 129,
   "metadata": {},
   "outputs": [
    {
     "data": {
      "text/plain": [
       "{'bodies': [<matplotlib.collections.PolyCollection at 0x7fc5557abd50>,\n",
       "  <matplotlib.collections.PolyCollection at 0x7fc55e07ec10>],\n",
       " 'cmaxes': <matplotlib.collections.LineCollection at 0x7fc520cc1390>,\n",
       " 'cmins': <matplotlib.collections.LineCollection at 0x7fc520ca9a10>,\n",
       " 'cbars': <matplotlib.collections.LineCollection at 0x7fc52128f590>}"
      ]
     },
     "execution_count": 129,
     "metadata": {},
     "output_type": "execute_result"
    },
    {
     "data": {
      "image/png": "[encoded data removed]",
      "text/plain": [
       "<Figure size 432x288 with 1 Axes>"
      ]
     },
     "metadata": {
      "needs_background": "light"
     },
     "output_type": "display_data"
    }
   ],
   "source": [
    "fig , ax = plt.subplots(1,1)\n",
    "\n",
    "ax.violinplot(\n",
    "    [a,b],\n",
    "    positions=None, # control positioning along x-axis\n",
    "    vert=True, # vertical or horizontal plot\n",
    "    widths=0.5, # max width of violin\n",
    "    showmeans=False, # show the mean value of distributions\n",
    "    showextrema=True, # show outliers\n",
    "    showmedians=False, # show median of distribution\n",
    "    quantiles= None, # show quantiles\n",
    "    points=100, # n of points for density estimation\n",
    "    bw_method=None # method for kernel bandwidth estimation\n",
    ")"
   ]
  },
  {
   "cell_type": "code",
   "execution_count": 16,
   "metadata": {},
   "outputs": [],
   "source": [
    "import numpy as np\n",
    "import numpy.random as rand\n",
    "import matplotlib.pyplot as plt"
   ]
  },
  {
   "cell_type": "code",
   "execution_count": 15,
   "metadata": {},
   "outputs": [
    {
     "data": {
      "text/plain": [
       "{'bodies': [<matplotlib.collections.PolyCollection at 0x7f0f75221ad0>,\n",
       "  <matplotlib.collections.PolyCollection at 0x7f0f75231590>],\n",
       " 'cmaxes': <matplotlib.collections.LineCollection at 0x7f0f7527a550>,\n",
       " 'cmins': <matplotlib.collections.LineCollection at 0x7f0f75231950>,\n",
       " 'cbars': <matplotlib.collections.LineCollection at 0x7f0f75231d10>}"
      ]
     },
     "execution_count": 15,
     "metadata": {},
     "output_type": "execute_result"
    },
    {
     "data": {
      "image/png": "[encoded data removed]",
      "text/plain": [
       "<Figure size 432x288 with 1 Axes>"
      ]
     },
     "metadata": {
      "needs_background": "light"
     },
     "output_type": "display_data"
    }
   ],
   "source": [
    "####exercise 1\n",
    "a = rand.normal(0,1,100)\n",
    "b = rand.normal(5,1,100)\n",
    "\n",
    "a_noise = 0.3*rand.random_sample(a.size)-0.15\n",
    "b_noise = 0.3*rand.random_sample(b.size)-0.15\n",
    "\n",
    "fig, ax = plt.subplots(1,1)\n",
    "\n",
    "ax.scatter(a_noise+1,a)\n",
    "ax.scatter(b_noise+2,b)\n",
    "ax.violinplot([a,b])\n",
    "\n"
   ]
  },
  {
   "cell_type": "code",
   "execution_count": 85,
   "metadata": {},
   "outputs": [
    {
     "name": "stdout",
     "output_type": "stream",
     "text": [
      "[0.17282048 0.14629019 0.14827482 0.23009953 0.30251498]\n"
     ]
    },
    {
     "data": {
      "text/plain": [
       "(0.0, 1.0)"
      ]
     },
     "execution_count": 85,
     "metadata": {},
     "output_type": "execute_result"
    },
    {
     "data": {
      "image/png": "[encoded data removed]",
      "text/plain": [
       "<Figure size 432x288 with 1 Axes>"
      ]
     },
     "metadata": {
      "needs_background": "light"
     },
     "output_type": "display_data"
    }
   ],
   "source": [
    "####exercise 2\n",
    "y = np.random.rand(5)\n",
    "y = y/y.sum()\n",
    "print(y)\n",
    "col = ['red','orange','yellow','lightgreen','lightblue']\n",
    "fig, ax = plt.subplots(1,1)\n",
    "\n",
    "for i in range(y.size):\n",
    "    ax.bar(bottom=y[:i].sum(),height=y[:i+1].sum(), x=1, color=col[i])\n",
    "    \n",
    "plt.ylim(top=1)"
   ]
  },
  {
   "cell_type": "code",
   "execution_count": 80,
   "metadata": {},
   "outputs": [
    {
     "name": "stdout",
     "output_type": "stream",
     "text": [
      "0.0\n",
      "1.0\n"
     ]
    }
   ],
   "source": [
    "print(y[:0].sum())\n",
    "print(y[:5].sum())"
   ]
  }
 ],
 "metadata": {
  "kernelspec": {
   "display_name": "lorenzo_py",
   "language": "python",
   "name": "lorenzo_py"
  },
  "language_info": {
   "codemirror_mode": {
    "name": "ipython",
    "version": 3
   },
   "file_extension": ".py",
   "mimetype": "text/x-python",
   "name": "python",
   "nbconvert_exporter": "python",
   "pygments_lexer": "ipython3",
   "version": "3.7.8"
  }
 },
 "nbformat": 4,
 "nbformat_minor": 4
}
