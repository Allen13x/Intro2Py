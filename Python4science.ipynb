{
 "cells": [
  {
   "cell_type": "markdown",
   "metadata": {},
   "source": [
    "####NUMPY"
   ]
  },
  {
   "cell_type": "code",
   "execution_count": 1,
   "metadata": {},
   "outputs": [],
   "source": [
    "import numpy as np\n",
    "\n",
    "a = np.array([1,2,3,4])\n",
    "b = np.array([(0,1,2),(1,2,3)])"
   ]
  },
  {
   "cell_type": "code",
   "execution_count": 3,
   "metadata": {},
   "outputs": [
    {
     "name": "stdout",
     "output_type": "stream",
     "text": [
      "[[0 1 2]\n",
      " [1 2 3]]\n"
     ]
    }
   ],
   "source": [
    "print(b)"
   ]
  },
  {
   "cell_type": "code",
   "execution_count": 6,
   "metadata": {},
   "outputs": [
    {
     "data": {
      "text/plain": [
       "array([[-5.73021895e-300,  6.92155067e-310]])"
      ]
     },
     "execution_count": 6,
     "metadata": {},
     "output_type": "execute_result"
    }
   ],
   "source": [
    "####generator functions\n",
    "\n",
    "a = np.zeros(shape=(2,3)) ###array 2d containing 2 rows and 3 columns with all zero\n",
    "\n",
    "np.ones_like(a) ###array with equal shape of a but filled with 1\n",
    "\n",
    "np.arange(start = 1, stop = 5) #### array with one dimension filled with number from start to stop-1\n",
    "\n",
    "np.linspace(start = 0, stop = 1, num = 5) ###array with one dimension from start to stop with num elements\n",
    "\n",
    "np.empty(shape = (1,2)) ##array with desired shape filled with randomn number"
   ]
  },
  {
   "cell_type": "code",
   "execution_count": null,
   "metadata": {},
   "outputs": [],
   "source": [
    "###Import (read file)\n",
    "\n",
    "b = np.fromfile('path', sep = '\\t', dtype = int) ###read from file"
   ]
  },
  {
   "cell_type": "code",
   "execution_count": 7,
   "metadata": {},
   "outputs": [
    {
     "data": {
      "text/plain": [
       "array([ 0.82315999,  1.73009617,  1.51582132,  0.78376433,  1.85319292,\n",
       "       -0.23460212, -0.69968289, -0.58778108, -1.69886592,  0.73401821,\n",
       "       -0.91434496, -0.27737916, -1.86473104,  1.31420598, -0.00272554,\n",
       "        0.58377382, -0.02177501, -0.45598817,  2.16211887,  0.07856352,\n",
       "       -0.37500729, -0.95847001,  0.10044705,  0.68693901, -0.64036182,\n",
       "        1.48153007, -0.45883894, -0.15493134, -0.00506954,  1.34395855,\n",
       "        0.07458453,  1.05296989,  1.10914979, -1.62996228, -2.30419893,\n",
       "        2.08600836,  1.37157184, -0.68036456,  0.01142887,  0.84738045,\n",
       "       -0.99944557, -0.09213467, -1.24958336,  0.86926661,  1.79246756,\n",
       "        0.05644337,  1.77782002,  1.28115362,  0.75836514,  0.2521688 ,\n",
       "        2.22704372,  1.10456984,  0.63643016,  0.38519802,  0.89141811,\n",
       "        1.37556046,  0.09394403,  2.38681652,  1.45459031, -0.67845059,\n",
       "        1.5032649 , -0.97572855, -0.12843714, -0.27081992, -1.13981664,\n",
       "       -0.90961321, -1.71361478, -0.5451219 , -0.16817591, -1.18380859,\n",
       "        0.00987881, -0.28906605,  0.5053938 ,  0.62707645,  0.79241857,\n",
       "        1.46996704,  1.36565226,  0.16361969, -0.18885561,  1.1985201 ,\n",
       "        0.38954832, -0.46912803,  0.20622063,  0.5963521 ,  0.68475897,\n",
       "       -0.26362197, -0.23943008, -0.69251508, -0.24107816,  2.69847568,\n",
       "       -0.81620023, -0.36835684,  1.14818435,  0.1725611 , -0.19740926,\n",
       "       -0.13301366,  0.43752207, -2.04250868, -0.0137216 , -1.37899374])"
      ]
     },
     "execution_count": 7,
     "metadata": {},
     "output_type": "execute_result"
    }
   ],
   "source": [
    "#### Random from distribution\n",
    "import numpy.random as rand\n",
    "\n",
    "rand.random_sample((2,3)) ##random float from uniform distribution [0,1]\n",
    "\n",
    "rand.randint(low = 5, high = 11, size = (4,2)) ###integers from discrete uniform distribution [low,high]\n",
    "\n",
    "rand.normal(loc=0, scale=1, size=100) ###float from normnal distribution"
   ]
  },
  {
   "cell_type": "code",
   "execution_count": 15,
   "metadata": {},
   "outputs": [
    {
     "name": "stdout",
     "output_type": "stream",
     "text": [
      "[[ 0  1  4  9 16]\n",
      " [ 0  1  8 27 64]]\n"
     ]
    }
   ],
   "source": [
    "a = np.arange(5)\n",
    "b = np.array([[i**2 for i in a],[j**3 for j in a]])\n",
    "print(b)"
   ]
  },
  {
   "cell_type": "code",
   "execution_count": 19,
   "metadata": {},
   "outputs": [
    {
     "data": {
      "text/plain": [
       "array([[20, 21, 22, 23],\n",
       "       [30, 31, 32, 33]])"
      ]
     },
     "execution_count": 19,
     "metadata": {},
     "output_type": "execute_result"
    }
   ],
   "source": [
    "### Multidimensional\n",
    "a = np.fromfunction(lambda x,y: 10*x+y, (4,4), dtype=int) #### x an y are taken from coordinates\n",
    "\n",
    "a[0,1] ###first row, second cloumn\n",
    "\n",
    "a[-2:,:] ##second-last and last rows with all columns\n",
    "\n",
    "a[-2:] ###if not specified, it consider to take all the elements from the unspecified dimensions"
   ]
  },
  {
   "cell_type": "code",
   "execution_count": 31,
   "metadata": {},
   "outputs": [
    {
     "name": "stdout",
     "output_type": "stream",
     "text": [
      "[False False False False False False  True  True False False]\n"
     ]
    }
   ],
   "source": [
    "a = np.random.randint(10,100,10)\n",
    "\n",
    "idx = np.array([0,3,5,2,2])\n",
    "a[idx]\n",
    "\n",
    "bool_idx = np.array([i%2==0 for i in a])\n",
    "a[bool_idx]\n",
    "print(bool_idx)"
   ]
  },
  {
   "cell_type": "code",
   "execution_count": 40,
   "metadata": {},
   "outputs": [
    {
     "data": {
      "text/plain": [
       "array([2, 5, 3])"
      ]
     },
     "execution_count": 40,
     "metadata": {},
     "output_type": "execute_result"
    }
   ],
   "source": [
    "b = np.array([[[0,1,2],[7,8,9],[1,2,3]], [[2,3,4],[5,6,7],[3,4,5]]])\n",
    "\n",
    "b[1,...,0] # interpreted as b[1,:,0]\n",
    "# [2,3]"
   ]
  },
  {
   "cell_type": "code",
   "execution_count": null,
   "metadata": {},
   "outputs": [],
   "source": []
  }
 ],
 "metadata": {
  "kernelspec": {
   "display_name": "lorenzo_py",
   "language": "python",
   "name": "lorenzo_py"
  },
  "language_info": {
   "codemirror_mode": {
    "name": "ipython",
    "version": 3
   },
   "file_extension": ".py",
   "mimetype": "text/x-python",
   "name": "python",
   "nbconvert_exporter": "python",
   "pygments_lexer": "ipython3",
   "version": "3.7.8"
  }
 },
 "nbformat": 4,
 "nbformat_minor": 4
}
